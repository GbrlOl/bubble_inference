{
 "cells": [
  {
   "cell_type": "markdown",
   "metadata": {},
   "source": [
    "# Detección de burbujas"
   ]
  },
  {
   "cell_type": "markdown",
   "metadata": {},
   "source": [
    "**Nota Importante**: Debe mover la carpeta `ImageFromCamera` dentro de la carpeta yolov9, debido a que evitamos errores con las rutas."
   ]
  },
  {
   "cell_type": "markdown",
   "metadata": {},
   "source": [
    "## Importar paquetes\n",
    "\n",
    "Nos movemos a la carpeta yolov9 usando los comando de consola que admiten la celdas de códigos."
   ]
  },
  {
   "cell_type": "code",
   "execution_count": 1,
   "metadata": {},
   "outputs": [
    {
     "name": "stdout",
     "output_type": "stream",
     "text": [
      "c:\\Users\\gol_m\\OneDrive\\Desktop\\Magíster en Ciencias de la Ingeniería\\2_PROYECTOS\\Bubbles\\code_yolo\\para_tarde\\yolov9\n",
      "c:\\Users\\gol_m\\OneDrive\\Desktop\\Magíster en Ciencias de la Ingeniería\\2_PROYECTOS\\Bubbles\\code_yolo\\para_tarde\\yolov9\n"
     ]
    }
   ],
   "source": [
    "# we move to the directory where we have yolo\n",
    "%cd yolov9/\n",
    "import os\n",
    "\n",
    "HOME = os.getcwd()\n",
    "print(HOME)"
   ]
  },
  {
   "cell_type": "markdown",
   "metadata": {},
   "source": [
    "* La idea es que nos ubiquemos en yolov9, esto nos permitirá importar los módulos que están en esa carpeta."
   ]
  },
  {
   "cell_type": "code",
   "execution_count": 2,
   "metadata": {},
   "outputs": [],
   "source": [
    "import numpy as np\n",
    "import torch\n",
    "import cv2\n",
    "import supervision as sv\n",
    "import matplotlib\n",
    "import matplotlib.pyplot as plt\n",
    "\n",
    "%matplotlib inline\n",
    "\n",
    "# YOLOv9\n",
    "from models.common import DetectMultiBackend, AutoShape\n",
    "from utils.general import set_logging\n",
    "from PIL import Image\n",
    "\n",
    "# Video Demonstration\n",
    "from IPython.display import HTML\n",
    "from base64 import b64encode\n",
    "\n",
    "from ultralytics import YOLO"
   ]
  },
  {
   "cell_type": "markdown",
   "metadata": {},
   "source": [
    "# Cargar Modelo\n",
    "\n",
    "Esto se realiza una vez, cargando el modelo queda en la GPU."
   ]
  },
  {
   "cell_type": "code",
   "execution_count": 3,
   "metadata": {},
   "outputs": [
    {
     "name": "stderr",
     "output_type": "stream",
     "text": [
      "Adding AutoShape... \n"
     ]
    }
   ],
   "source": [
    "# Load a model\n",
    "device = torch.device('cuda:0' if torch.cuda.is_available() else 'cpu')\n",
    "\n",
    "model = DetectMultiBackend(weights=r'best.pt', device=device, data='{dataset.location}/data.yaml', fuse=False)\n",
    "model = AutoShape(model)\n",
    "\n",
    "# configuration of some model parameters to perform inference\n",
    "model.conf = 0.1"
   ]
  },
  {
   "cell_type": "markdown",
   "metadata": {},
   "source": [
    "## Funciones \n",
    "\n",
    "Se encuentran las funciones para obtener la cantidad, y diámetro"
   ]
  },
  {
   "cell_type": "code",
   "execution_count": 4,
   "metadata": {},
   "outputs": [],
   "source": [
    "# Función para procesar un frame y realizar la inferencia de objetos\n",
    "def procesar_frame(frame):\n",
    "    # Run batched inference on a list of images\n",
    "    results = model(frame)  # return a list of Results objects model(frame, conf=0.5)\n",
    "    return results  # Retornamos el frame procesado\n",
    "\n",
    "# Función para extraer estadísticas de un conjunto de frames\n",
    "def features_bubble(result):\n",
    "    # Area de las burbujas de una imagen\n",
    "    diametro = float(result.xywh[0][:,2])\n",
    "    area = float(torch.pow(diametro,2) * np.pi/4)\n",
    "    # area = np.power(diametro,2)*np.pi/4\n",
    "    cantidad = int(len(result.xywh[0]))\n",
    "    return area, cantidad, diametro\n",
    "\n",
    "def plot_hist(diametro):\n",
    "    # Genera un vector de datos aleatorios\n",
    "    datos = diametro\n",
    "    # Crea el histograma\n",
    "    plt.hist(datos, bins=30, density=True, alpha=0.7, color='blue')\n",
    "    # Añade títulos y etiquetas\n",
    "    plt.title('Histograma de burbujas')\n",
    "    plt.xlabel('Diametro')\n",
    "    plt.ylabel('Frecuencia')\n",
    "    # Muestra el histograma\n",
    "    plt.show()"
   ]
  },
  {
   "cell_type": "markdown",
   "metadata": {},
   "source": [
    "# Realizar Inferencia o Post-processing"
   ]
  },
  {
   "cell_type": "code",
   "execution_count": 11,
   "metadata": {},
   "outputs": [
    {
     "name": "stdout",
     "output_type": "stream",
     "text": [
      "aquí toy\n",
      "ImagesFromCamera\\001.JPG\n",
      "Diccionario guardado en ImagePostProcessing\\001.JPG.json\n",
      "Imagen guardada en ImagePostProcessing\\001.JPG\n",
      "aquí toy\n",
      "ImagesFromCamera\\hola.jpg\n",
      "Diccionario guardado en ImagePostProcessing\\hola.jpg.json\n",
      "Imagen guardada en ImagePostProcessing\\hola.jpg\n",
      "Se ha parado la ejecución del código.\n"
     ]
    }
   ],
   "source": [
    "import os\n",
    "import glob\n",
    "import time\n",
    "from datetime import datetime\n",
    "import json\n",
    "\n",
    "# Source and destination folder\n",
    "carpeta_origen = 'ImagesFromCamera'\n",
    "carpeta_destino = 'ImagePostProcessing'\n",
    "\n",
    "# Create the folder if it does not exist\n",
    "os.makedirs(carpeta_destino, exist_ok=True)\n",
    "\n",
    "def obtener_imagen_mas_reciente(carpeta):\n",
    "    \"\"\"Obtiene la imagen más reciente en la carpeta especificada.\"\"\"\n",
    "    lista_archivos = glob.glob(os.path.join(carpeta, '*.JPG'))  # Ajusta la extensión si es necesario\n",
    "    if not lista_archivos:\n",
    "        return None\n",
    "    imagen_mas_reciente = max(lista_archivos, key=os.path.getctime)\n",
    "    return imagen_mas_reciente\n",
    "\n",
    "def procesar_imagen(image_path, carpeta_destino):\n",
    "    \"\"\"Realiza la inferencia sobre la imagen y guarda el resultado.\"\"\"\n",
    "    results = model(image_path)\n",
    "\n",
    "    # area, cantidad, diametro = features_bubble(results)\n",
    "    diccionario = {\n",
    "        \"nombre archivo\": image_path,\n",
    "        \"cantidad\": len(results.xywh[0]),\n",
    "        # \"diametro\": diametro,\n",
    "        # \"area\": area\n",
    "    }\n",
    "\n",
    "    #debug\n",
    "    # print(\"aquí toy\")\n",
    "    # print(image_path)\n",
    "    nombre_archivo = os.path.basename(image_path)\n",
    "    ruta_destino_para_json = os.path.join(carpeta_destino, nombre_archivo)\n",
    "    nombre_archivo_json = f\"{ruta_destino_para_json}.json\"\n",
    "\n",
    "    # Guardar el diccionario en un archivo JSON\n",
    "    with open(nombre_archivo_json, 'w') as archivo:\n",
    "        json.dump(diccionario, archivo, indent=4)\n",
    "\n",
    "    print(f\"Diccionario guardado en {nombre_archivo_json}\")\n",
    "\n",
    "    img = results.ims[0].copy()\n",
    "\n",
    "    # Dibujar los bounding boxes en la imagen\n",
    "    for box in results.xyxy[0]:  # Suponiendo que xyxy contiene las coordenadas del bounding box\n",
    "        x1, y1, x2, y2, conf, cls = box.tolist()  # Convertir de tensor a lista\n",
    "        x1, y1, x2, y2 = int(x1), int(y1), int(x2), int(y2)  # Convertir de float a int\n",
    "\n",
    "        # Dibujar el bounding box\n",
    "        color = (255, 0, 0)  # Color rojo (RGB)\n",
    "        thickness = 3\n",
    "        cv2.rectangle(img, (x1, y1), (x2, y2), color, thickness)\n",
    "\n",
    "    # Guardar la imagen procesada en la carpeta destino\n",
    "    nombre_archivo = os.path.basename(image_path)\n",
    "    ruta_destino = os.path.join(carpeta_destino, nombre_archivo)\n",
    "    cv2.imwrite(ruta_destino, img[:,:,[2,1,0]]) #invierto los canales porque queda en BGR, truquito de PDI2\n",
    "    print(f'Imagen guardada en {ruta_destino}')\n",
    "\n",
    "# Bucle para monitorizar la carpeta y procesar nuevas imágenes\n",
    "ultima_imagen_procesada = None\n",
    "\n",
    "try:\n",
    "    while True:\n",
    "        imagen_mas_reciente = obtener_imagen_mas_reciente(carpeta_origen)\n",
    "        \n",
    "        if imagen_mas_reciente != ultima_imagen_procesada:\n",
    "            ultima_imagen_procesada = imagen_mas_reciente\n",
    "            if imagen_mas_reciente is not None:\n",
    "                procesar_imagen(imagen_mas_reciente, carpeta_destino)\n",
    "        \n",
    "        # Esperar un tiempo antes de volver a comprobar (por ejemplo, 5 segundos)\n",
    "        time.sleep(5)\n",
    "except KeyboardInterrupt:\n",
    "    print(\"Se ha parado la ejecución del código.\")\n"
   ]
  },
  {
   "cell_type": "code",
   "execution_count": null,
   "metadata": {},
   "outputs": [],
   "source": []
  }
 ],
 "metadata": {
  "kernelspec": {
   "display_name": "Yolov9",
   "language": "python",
   "name": "python3"
  },
  "language_info": {
   "codemirror_mode": {
    "name": "ipython",
    "version": 3
   },
   "file_extension": ".py",
   "mimetype": "text/x-python",
   "name": "python",
   "nbconvert_exporter": "python",
   "pygments_lexer": "ipython3",
   "version": "3.10.14"
  }
 },
 "nbformat": 4,
 "nbformat_minor": 2
}
